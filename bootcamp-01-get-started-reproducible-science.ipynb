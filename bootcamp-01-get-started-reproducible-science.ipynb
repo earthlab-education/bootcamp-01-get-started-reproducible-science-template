{
 "cells": [
  {
   "cell_type": "markdown",
   "metadata": {
    "deletable": false,
    "editable": false,
    "nbgrader": {
     "cell_type": "markdown",
     "checksum": "731b459f21b5a5bebdae400432a9f8da",
     "grade": false,
     "grade_id": "title",
     "locked": true,
     "schema_version": 3,
     "solution": false,
     "task": false
    }
   },
   "source": [
    "# Get Started with Reproducible Science\n",
    "\n",
    "In this portion of assignment 1, you will work with Markdown and Code cells in Jupyter Notebook.\n",
    "\n",
    "Read the instructions for each question carefully to successfully complete the required tasks.\n",
    "\n",
    "To receive full points, please make sure to complete the written questions as well as the code. Take care with your written responses and proof-read."
   ]
  },
  {
   "cell_type": "markdown",
   "metadata": {
    "deletable": false,
    "editable": false,
    "nbgrader": {
     "cell_type": "markdown",
     "checksum": "292b1cd3d4af7fdd7f0f6e1ca15740b5",
     "grade": false,
     "grade_id": "task-markdown",
     "locked": true,
     "points": 12,
     "schema_version": 3,
     "solution": false,
     "task": true
    }
   },
   "source": [
    "## Practice using Markdown\n",
    "\n",
    "**Create a Markdown cell below.** \n",
    "\n",
    "In the cell, add the following items using Markdown:\n",
    "1. A **header** for a location/place you want to visit\n",
    "2. A **hyperlink** to a webpage on this location (include the location's name in the hyperlink title)\n",
    "3. A **bold** word for a favorite food's name\n",
    "4. An **image** from the web for this food (include the food's name in the image alt text)\n"
   ]
  },
  {
   "cell_type": "markdown",
   "metadata": {
    "deletable": false,
    "editable": false,
    "nbgrader": {
     "cell_type": "markdown",
     "checksum": "95b65b15c467a9f71762ac63b18e0f12",
     "grade": false,
     "grade_id": "task-open-science",
     "locked": true,
     "points": 12,
     "schema_version": 3,
     "solution": false,
     "task": true
    }
   },
   "source": [
    "## What Does Open Reproducible Science Mean To You?\n",
    "\n",
    "**Convert the cell below to a Markdown cell.** Remove any existing text in the cell. \n",
    "\n",
    "In the new cell, answer the following questions using a **numbered list** in Markdown:\n",
    "1. In 1-2 sentences, define open reproducible science.\n",
    "2. In 1-2 sentences, choose one of the open source tools that you have learned about in week 1 (i.e. Shell, Git/GitHub, Jupyter Notebook, Python) and explain how it supports open reproducible science.\n",
    "3. In 1-2 sentences, does this Jupyter Notebook file have a machine readable name? Explain your answer.\n"
   ]
  },
  {
   "cell_type": "code",
   "execution_count": null,
   "metadata": {},
   "outputs": [],
   "source": [
    "# YOUR ANSWER HERE"
   ]
  },
  {
   "cell_type": "markdown",
   "metadata": {
    "deletable": false,
    "editable": false,
    "nbgrader": {
     "cell_type": "markdown",
     "checksum": "c366e637ecba16b420a7a7f0c7ff6633",
     "grade": false,
     "grade_id": "task-math",
     "locked": true,
     "points": 4,
     "schema_version": 3,
     "solution": false,
     "task": true
    }
   },
   "source": [
    "## Do Some Math With Python\n",
    "\n",
    "Remove any existing text in the four **code** cells below. \n",
    "\n",
    "Run the following calculations:"
   ]
  },
  {
   "cell_type": "markdown",
   "metadata": {
    "deletable": false,
    "editable": false,
    "nbgrader": {
     "cell_type": "markdown",
     "checksum": "846f3a37b406ee572e605f6c84ce0564",
     "grade": false,
     "grade_id": "read-math-1",
     "locked": true,
     "schema_version": 3,
     "solution": false,
     "task": false
    }
   },
   "source": [
    "```python\n",
    "6 * 2\n",
    "```"
   ]
  },
  {
   "cell_type": "code",
   "execution_count": null,
   "metadata": {
    "deletable": false,
    "nbgrader": {
     "cell_type": "code",
     "checksum": "0efbde5816272e2174fd61d3aceef068",
     "grade": false,
     "grade_id": "ans-math-1",
     "locked": false,
     "schema_version": 3,
     "solution": true,
     "task": false
    }
   },
   "outputs": [],
   "source": [
    "# YOUR CODE HERE\n",
    "raise NotImplementedError()"
   ]
  },
  {
   "cell_type": "code",
   "execution_count": null,
   "metadata": {
    "deletable": false,
    "editable": false,
    "nbgrader": {
     "cell_type": "code",
     "checksum": "86973a81d238b383c4d61ac625a0fcc5",
     "grade": true,
     "grade_id": "test-math-1",
     "locked": true,
     "points": 2,
     "schema_version": 3,
     "solution": false,
     "task": false
    }
   },
   "outputs": [],
   "source": [
    "# DO NOT MODIFY THIS CELL\n",
    "\n",
    "student_math_1 = _\n",
    "student_math_1_answer_pts = 0\n",
    "\n",
    "if student_math_1 == 12:\n",
    "    print(\"\\u2705 Great job! You performed the * operation\")\n",
    "    student_math_1_answer_pts += 2\n",
    "else:\n",
    "    print(\"\\u274C Oops - the last line in your cell should read 6 * 2\")\n",
    "    \n",
    "student_math_1_answer_pts"
   ]
  },
  {
   "cell_type": "markdown",
   "metadata": {
    "deletable": false,
    "editable": false,
    "nbgrader": {
     "cell_type": "markdown",
     "checksum": "3f91d07c0545d498894a5693545da21f",
     "grade": false,
     "grade_id": "read-math-2",
     "locked": true,
     "schema_version": 3,
     "solution": false,
     "task": false
    }
   },
   "source": [
    "```python\n",
    "6 ** 2\n",
    "```"
   ]
  },
  {
   "cell_type": "code",
   "execution_count": null,
   "metadata": {
    "deletable": false,
    "nbgrader": {
     "cell_type": "code",
     "checksum": "519ed814bef4ff15d7bf801b76ccb164",
     "grade": false,
     "grade_id": "ans-math-2",
     "locked": false,
     "schema_version": 3,
     "solution": true,
     "task": false
    }
   },
   "outputs": [],
   "source": [
    "# YOUR CODE HERE\n",
    "raise NotImplementedError()"
   ]
  },
  {
   "cell_type": "code",
   "execution_count": null,
   "metadata": {
    "deletable": false,
    "editable": false,
    "nbgrader": {
     "cell_type": "code",
     "checksum": "e2ebd24ddfa5b50ed5122397b57f4ae3",
     "grade": true,
     "grade_id": "test-math-2",
     "locked": true,
     "points": 2,
     "schema_version": 3,
     "solution": false,
     "task": false
    }
   },
   "outputs": [],
   "source": [
    "# DO NOT MODIFY THIS CELL\n",
    "\n",
    "student_math_2 = _\n",
    "student_math_2_answer_pts = 0\n",
    "\n",
    "if student_math_2 == 36:\n",
    "    print(\"\\u2705 Great job! You performed the ** operation\")\n",
    "    student_math_2_answer_pts += 2\n",
    "else:\n",
    "    print(\"\\u274C Oops - the last line in your cell should read 6 ** 2\")\n",
    "    \n",
    "student_math_2_answer_pts"
   ]
  },
  {
   "cell_type": "markdown",
   "metadata": {
    "deletable": false,
    "editable": false,
    "nbgrader": {
     "cell_type": "markdown",
     "checksum": "2dd7460639a30d9e4d0039f005ea99b3",
     "grade": false,
     "grade_id": "read-math-3",
     "locked": true,
     "schema_version": 3,
     "solution": false,
     "task": false
    }
   },
   "source": [
    "```python\n",
    "6 / 2\n",
    "```"
   ]
  },
  {
   "cell_type": "code",
   "execution_count": null,
   "metadata": {
    "deletable": false,
    "nbgrader": {
     "cell_type": "code",
     "checksum": "f6b794efe674c0132c94a4a3363d9311",
     "grade": false,
     "grade_id": "ans-math-3",
     "locked": false,
     "schema_version": 3,
     "solution": true,
     "task": false
    }
   },
   "outputs": [],
   "source": [
    "# YOUR CODE HERE\n",
    "raise NotImplementedError()"
   ]
  },
  {
   "cell_type": "code",
   "execution_count": null,
   "metadata": {
    "deletable": false,
    "editable": false,
    "nbgrader": {
     "cell_type": "code",
     "checksum": "e7c6a9381fc5dd1d3a6f232542fd0487",
     "grade": true,
     "grade_id": "test-math-3",
     "locked": true,
     "points": 2,
     "schema_version": 3,
     "solution": false,
     "task": false
    }
   },
   "outputs": [],
   "source": [
    "# DO NOT MODIFY THIS CELL\n",
    "\n",
    "student_math_3 = _\n",
    "student_math_3_answer_pts = 0\n",
    "\n",
    "if student_math_3 == 3.0:\n",
    "    print(\"\\u2705 Great job! You performed the / operation\")\n",
    "    student_math_3_answer_pts += 2\n",
    "else:\n",
    "    print(\"\\u274C Oops - the last line in your cell should read 6 / 2\")\n",
    "    \n",
    "student_math_3_answer_pts"
   ]
  },
  {
   "cell_type": "markdown",
   "metadata": {
    "deletable": false,
    "editable": false,
    "nbgrader": {
     "cell_type": "markdown",
     "checksum": "2c099bf23b0318e510011f16ef844c01",
     "grade": false,
     "grade_id": "read-math-4",
     "locked": true,
     "schema_version": 3,
     "solution": false,
     "task": false
    }
   },
   "source": [
    "```python\n",
    "6 == 2\n",
    "```"
   ]
  },
  {
   "cell_type": "code",
   "execution_count": null,
   "metadata": {
    "deletable": false,
    "nbgrader": {
     "cell_type": "code",
     "checksum": "40bbafe10aeeef6632c359d2f8a958fd",
     "grade": false,
     "grade_id": "ans-math-4",
     "locked": false,
     "schema_version": 3,
     "solution": true,
     "task": false
    }
   },
   "outputs": [],
   "source": [
    "# YOUR CODE HERE\n",
    "raise NotImplementedError()"
   ]
  },
  {
   "cell_type": "code",
   "execution_count": null,
   "metadata": {
    "deletable": false,
    "editable": false,
    "nbgrader": {
     "cell_type": "code",
     "checksum": "ce4cce7b71c9c881221276ba7a4cd0d7",
     "grade": true,
     "grade_id": "test-math-4",
     "locked": true,
     "points": 2,
     "schema_version": 3,
     "solution": false,
     "task": false
    }
   },
   "outputs": [],
   "source": [
    "# DO NOT MODIFY THIS CELL\n",
    "\n",
    "student_math_4 = _\n",
    "student_math_4_answer_pts = 0\n",
    "\n",
    "if not student_math_4:\n",
    "    print(\"\\u2705 Great job! You performed the == operation\")\n",
    "    student_math_4_answer_pts += 2\n",
    "else:\n",
    "    print(\"\\u274C Oops - the last line in your cell should read 6 == 2\")\n",
    "    \n",
    "student_math_4_answer_pts"
   ]
  },
  {
   "cell_type": "markdown",
   "metadata": {
    "deletable": false,
    "editable": false,
    "nbgrader": {
     "cell_type": "markdown",
     "checksum": "e7c36745c72031910bf1574a56b02cf7",
     "grade": false,
     "grade_id": "task-explain-math",
     "locked": true,
     "points": 12,
     "schema_version": 3,
     "solution": false,
     "task": true
    }
   },
   "source": [
    "## Explain Your Calculation Results\n",
    "\n",
    "Convert the cell below to a **markdown cell**, and answer the following questions about the results of your calculations using a **numbered list**:\n",
    "1. What calculation does the ```**``` execute?\n",
    "2. What do you notice about the format of the result of the calculation ```5 / 2```?\n",
    "3. What do you think the ```==``` operation is used for in Python? (Hint: look at the result carefully.)\n",
    "\n",
    "Remove any existing text in the cell before adding your answer. \n"
   ]
  },
  {
   "cell_type": "code",
   "execution_count": null,
   "metadata": {},
   "outputs": [],
   "source": [
    "YOUR ANSWER HERE"
   ]
  },
  {
   "cell_type": "markdown",
   "metadata": {
    "deletable": false,
    "editable": false,
    "nbgrader": {
     "cell_type": "markdown",
     "checksum": "ef211dfbb848f61e927e5903fc453f4b",
     "grade": false,
     "grade_id": "read-import",
     "locked": true,
     "schema_version": 3,
     "solution": false,
     "task": false
    }
   },
   "source": [
    "## Import Python Packages\n",
    "\n",
    "Selecting the **code cell** below, replace\n",
    "```python\n",
    "# YOUR CODE HERE\n",
    "raise NotImplementedError()\n",
    "```\n",
    "with code that will import the `pandas` library:\n",
    "```python\n",
    "import pandas as pd\n",
    "```\n",
    "\n",
    "`pd` is the standard nickname or alias for `pandas` - it will shorten your code. You will use pandas to enter and plot some precipitation data.  "
   ]
  },
  {
   "cell_type": "code",
   "execution_count": null,
   "metadata": {
    "deletable": false,
    "nbgrader": {
     "cell_type": "code",
     "checksum": "6f877ce12e05fcb22ab76b793ec817d4",
     "grade": false,
     "grade_id": "ans-import",
     "locked": false,
     "schema_version": 3,
     "solution": true,
     "task": false
    }
   },
   "outputs": [],
   "source": [
    "# YOUR CODE HERE\n",
    "raise NotImplementedError()"
   ]
  },
  {
   "cell_type": "code",
   "execution_count": null,
   "metadata": {
    "deletable": false,
    "editable": false,
    "nbgrader": {
     "cell_type": "code",
     "checksum": "f58104e0fdb3793f86cf9206e3c880c8",
     "grade": true,
     "grade_id": "test-import",
     "locked": true,
     "points": 5,
     "schema_version": 3,
     "solution": false,
     "task": false
    }
   },
   "outputs": [],
   "source": [
    "# DO NOT MODIFY THIS CELL\n",
    "student_imports_pts = 0\n",
    "\n",
    "try:\n",
    "    pd.DataFrame()\n",
    "    print(\"\\u2705 Great job! You imported the pandas package correctly\")\n",
    "    student_imports_pts += 5\n",
    "except:\n",
    "    print(\"\\u274C Oops - make sure your import statement is correct\")\n",
    "\n",
    "student_imports_pts"
   ]
  },
  {
   "cell_type": "markdown",
   "metadata": {
    "deletable": false,
    "editable": false,
    "nbgrader": {
     "cell_type": "markdown",
     "checksum": "0bd3481ba151ea619a863c4ec363922b",
     "grade": false,
     "grade_id": "read-dataframe",
     "locked": true,
     "schema_version": 3,
     "solution": false,
     "task": false
    }
   },
   "source": [
    "## Create a DataFrame\n",
    "\n",
    "In the Code cell below, replace:\n",
    "\n",
    "```python\n",
    "# YOUR CODE HERE\n",
    "raise NotImplementedError()\n",
    "```\n",
    "\n",
    "with code to create your precipitation DataFrame:\n",
    "\n",
    "```python\n",
    "# Put data in a pandas DataFrame\n",
    "boulder_precip_df = pd.DataFrame(\n",
    "    index=pd.date_range(\"2013-09-09\", periods=8, freq=\"D\"),\n",
    "    columns=[\"precip_in\"],\n",
    "    data=[0.1, 1.0, 2.3, 9.8, 1.9, 0.01, 1.4, 0.4]\n",
    ")\n",
    "boulder_precip_df\n",
    "```"
   ]
  },
  {
   "cell_type": "code",
   "execution_count": null,
   "metadata": {
    "deletable": false,
    "nbgrader": {
     "cell_type": "code",
     "checksum": "750b3a221102de50c553da68338e32d4",
     "grade": true,
     "grade_id": "cell-25c24f3ab9b5ebb8",
     "locked": false,
     "points": 5,
     "schema_version": 3,
     "solution": true,
     "task": false
    }
   },
   "outputs": [],
   "source": [
    "# YOUR CODE HERE\n",
    "raise NotImplementedError()"
   ]
  },
  {
   "cell_type": "markdown",
   "metadata": {
    "deletable": false,
    "editable": false,
    "nbgrader": {
     "cell_type": "markdown",
     "checksum": "ae64b6bdf7e5b1613ba4cb2e4a4d1001",
     "grade": false,
     "grade_id": "cell-f564840ef713893c",
     "locked": true,
     "points": 6,
     "schema_version": 3,
     "solution": false,
     "task": true
    }
   },
   "source": [
    "## Reading code: pd.DataFrame\n",
    "\n",
    "Create a Markdown cell below. In a **numbered list**, state what you think each **argument** above does in the code:\n",
    "\n",
    "  1. index\n",
    "  2. columns\n",
    "  3. data"
   ]
  },
  {
   "cell_type": "markdown",
   "metadata": {
    "deletable": false,
    "editable": false,
    "nbgrader": {
     "cell_type": "markdown",
     "checksum": "1c2eeb6bb0344c14765b031b0ed4db60",
     "grade": false,
     "grade_id": "cell-d66818e473b41a7a",
     "locked": true,
     "points": 4,
     "schema_version": 3,
     "solution": false,
     "task": true
    }
   },
   "source": [
    "## Descriptive code\n",
    "\n",
    "Create a Markdown cell below. In a **bulleted list**, state two ways in which the code above is descriptive, and explain why."
   ]
  },
  {
   "cell_type": "markdown",
   "metadata": {
    "deletable": false,
    "editable": false,
    "nbgrader": {
     "cell_type": "markdown",
     "checksum": "5235ffdd5f6a7459146cef548cfb73fd",
     "grade": false,
     "grade_id": "cell-87c49680314affef",
     "locked": true,
     "points": 7,
     "schema_version": 3,
     "solution": false,
     "task": true
    }
   },
   "source": [
    "## Plot your data\n",
    "\n",
    "Create a **code cell** immediately below this cell. Then, use the following code to plot your data:\n",
    "\n",
    "```python\n",
    "ax = boulder_precip_dt.precip_in.plot.bar()\n",
    "```\n",
    "\n",
    "This code block will create a **plot of daily precipitation values in inches for Boulder, CO** for one week in **September 2013**, during which there was a major flooding event. "
   ]
  },
  {
   "cell_type": "markdown",
   "metadata": {
    "deletable": false,
    "editable": false,
    "nbgrader": {
     "cell_type": "markdown",
     "checksum": "e7a1a29b0327c9df5c5374dd3a15f2a1",
     "grade": false,
     "grade_id": "read-id-labels",
     "locked": true,
     "schema_version": 3,
     "solution": false,
     "task": false
    }
   },
   "source": [
    "## Identify Plot Title and Axes Labels\n",
    "\n",
    "Note that your plot is missing important labels. How would you describe the plotted data? \n",
    "\n",
    "Create a Markdown cell below. Provide the following in a **bullet list**:\n",
    "1. an appropriate title for the plot\n",
    "2. a clear label for the x-axis\n",
    "3. a clear label for the y-axis\n",
    "\n",
    "Be sure to think about the following pieces of information that could help someone easily interpret the plot:\n",
    "* geographic coverage or extent of data\n",
    "* duration or temporal extent of the data\n",
    "* what was actually measured and/or represented by the data\n",
    "* units of measurement"
   ]
  },
  {
   "cell_type": "markdown",
   "metadata": {
    "deletable": false,
    "editable": false,
    "nbgrader": {
     "cell_type": "markdown",
     "checksum": "51204cc6036383d0c3aaf6326c4eb8f0",
     "grade": false,
     "grade_id": "read-label-plot",
     "locked": true,
     "schema_version": 3,
     "solution": false,
     "task": false
    }
   },
   "source": [
    "## Label your plot\n",
    "\n",
    "Convert the cell below to a **code cell**. Add the code you used to make your plot. Then add the following code, substituting your own labels:\n",
    "\n",
    "```python\n",
    "ax.set(\n",
    "    title=\"Title Goes Here\", \n",
    "    xlabel=\"X Axis Label Goes Here\", \n",
    "    ylabel=\"Y Axis Label Goes Here\");\n",
    "```\n",
    "\n",
    "BONUS: What do you think the semicolon at the end does? "
   ]
  },
  {
   "cell_type": "markdown",
   "metadata": {},
   "source": [
    "YOUR ANSWER HERE"
   ]
  },
  {
   "cell_type": "markdown",
   "metadata": {
    "deletable": false,
    "editable": false,
    "nbgrader": {
     "cell_type": "markdown",
     "checksum": "cb0505afed3fbe53da70ca8993e9bfad",
     "grade": false,
     "grade_id": "task-explain-plot",
     "locked": true,
     "points": 14,
     "schema_version": 3,
     "solution": false,
     "task": true
    }
   },
   "source": [
    "## Explain your plot\n",
    "\n",
    "What does this plot tell you about this Sept 2013 flood event in Boulder, CO?\n",
    "\n",
    "Create a Markdown cell below. In it:\n",
    "  * Add a **heading** that explains a main takeaway from your plot in a full sentence\n",
    "  * Elaborate on your point in 2-3 sentences, **in paragraph form**, not list\n",
    "  "
   ]
  }
 ],
 "metadata": {
  "colab": {
   "collapsed_sections": [],
   "name": "ea-bootcamp-01-get-started-reproducible-science-svetlana-kurakina.ipynb",
   "provenance": []
  },
  "kernelspec": {
   "display_name": "Python 3 (ipykernel)",
   "language": "python",
   "name": "python3"
  },
  "language_info": {
   "codemirror_mode": {
    "name": "ipython",
    "version": 3
   },
   "file_extension": ".py",
   "mimetype": "text/x-python",
   "name": "python",
   "nbconvert_exporter": "python",
   "pygments_lexer": "ipython3",
   "version": "3.8.12"
  },
  "varInspector": {
   "cols": {
    "lenName": 16,
    "lenType": 16,
    "lenVar": 40
   },
   "kernels_config": {
    "python": {
     "delete_cmd_postfix": "",
     "delete_cmd_prefix": "del ",
     "library": "var_list.py",
     "varRefreshCmd": "print(var_dic_list())"
    },
    "r": {
     "delete_cmd_postfix": ") ",
     "delete_cmd_prefix": "rm(",
     "library": "var_list.r",
     "varRefreshCmd": "cat(var_dic_list()) "
    }
   },
   "types_to_exclude": [
    "module",
    "function",
    "builtin_function_or_method",
    "instance",
    "_Feature"
   ],
   "window_display": false
  }
 },
 "nbformat": 4,
 "nbformat_minor": 1
}
